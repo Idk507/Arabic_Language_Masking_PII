{
 "cells": [
  {
   "cell_type": "code",
   "execution_count": 1,
   "metadata": {},
   "outputs": [],
   "source": [
    "\n",
    "\n",
    "import torch\n",
    "from transformers import AutoTokenizer, AutoModelForTokenClassification\n",
    "import re"
   ]
  },
  {
   "cell_type": "code",
   "execution_count": 2,
   "metadata": {},
   "outputs": [
    {
     "data": {
      "text/plain": [
       "DebertaV2ForTokenClassification(\n",
       "  (deberta): DebertaV2Model(\n",
       "    (embeddings): DebertaV2Embeddings(\n",
       "      (word_embeddings): Embedding(251000, 768, padding_idx=0)\n",
       "      (LayerNorm): LayerNorm((768,), eps=1e-07, elementwise_affine=True)\n",
       "      (dropout): StableDropout()\n",
       "    )\n",
       "    (encoder): DebertaV2Encoder(\n",
       "      (layer): ModuleList(\n",
       "        (0-11): 12 x DebertaV2Layer(\n",
       "          (attention): DebertaV2Attention(\n",
       "            (self): DisentangledSelfAttention(\n",
       "              (query_proj): Linear(in_features=768, out_features=768, bias=True)\n",
       "              (key_proj): Linear(in_features=768, out_features=768, bias=True)\n",
       "              (value_proj): Linear(in_features=768, out_features=768, bias=True)\n",
       "              (pos_dropout): StableDropout()\n",
       "              (dropout): StableDropout()\n",
       "            )\n",
       "            (output): DebertaV2SelfOutput(\n",
       "              (dense): Linear(in_features=768, out_features=768, bias=True)\n",
       "              (LayerNorm): LayerNorm((768,), eps=1e-07, elementwise_affine=True)\n",
       "              (dropout): StableDropout()\n",
       "            )\n",
       "          )\n",
       "          (intermediate): DebertaV2Intermediate(\n",
       "            (dense): Linear(in_features=768, out_features=3072, bias=True)\n",
       "            (intermediate_act_fn): GELUActivation()\n",
       "          )\n",
       "          (output): DebertaV2Output(\n",
       "            (dense): Linear(in_features=3072, out_features=768, bias=True)\n",
       "            (LayerNorm): LayerNorm((768,), eps=1e-07, elementwise_affine=True)\n",
       "            (dropout): StableDropout()\n",
       "          )\n",
       "        )\n",
       "      )\n",
       "      (rel_embeddings): Embedding(512, 768)\n",
       "      (LayerNorm): LayerNorm((768,), eps=1e-07, elementwise_affine=True)\n",
       "    )\n",
       "  )\n",
       "  (dropout): Dropout(p=0.1, inplace=False)\n",
       "  (classifier): Linear(in_features=768, out_features=18, bias=True)\n",
       ")"
      ]
     },
     "execution_count": 2,
     "metadata": {},
     "output_type": "execute_result"
    }
   ],
   "source": [
    "model_name = \"iiiorg/piiranha-v1-detect-personal-information\"\n",
    "tokenizer = AutoTokenizer.from_pretrained(model_name)\n",
    "model = AutoModelForTokenClassification.from_pretrained(model_name)\n",
    "device = torch.device(\"cuda\" if torch.cuda.is_available() else \"cpu\")\n",
    "model.to(device)"
   ]
  },
  {
   "cell_type": "code",
   "execution_count": 3,
   "metadata": {},
   "outputs": [],
   "source": [
    "custom_patterns = {\n",
    "    # Business-specific patterns\n",
    "    'SHIPMENT_NUMBER': r'(SHIP|SHP)-\\d{2}-\\d{5}',           # SHIP-23-12345\n",
    "    'ORDER_NUMBER': r'ORD-\\d{2}-[A-Z]{2}-\\d{6}',           # ORD-23-IN-123456\n",
    "    'INVOICE_NUMBER': r'INV-\\d{4}-[A-Z]{2}\\d{6}',          # INV-2024-IN123456\n",
    "    'TRACKING_NUMBER': r'TRK-[A-Z]{2}\\d{10}',              # TRK-IN1234567890\n",
    "    'CONTAINER_NUMBER': r'CONT-[A-Z]{4}\\d{7}',             # CONT-ABCD1234567\n",
    "    'PRODUCT_CODE': r'PRD-[A-Z]{2}-\\d{6}',                 # PRD-EL-123456\n",
    "    \n",
    "    # Employee information\n",
    "    'EMPLOYEE_ID': r'EMP-[A-Z]{2}-\\d{6}',                  # EMP-IT-123456\n",
    "    'BADGE_NUMBER': r'BDG-\\d{6}',                          # BDG-123456\n",
    "    \n",
    "    # Financial information\n",
    "    'ACCOUNT_NUMBER': r'ACC-\\d{12}',                       # ACC-123456789012\n",
    "    'TRANSACTION_ID': r'TXN-[A-Z0-9]{12}',                # TXN-AB12CD34EF56\n",
    "    'CREDIT_CARD': r'\\d{4}[-\\s]?\\d{4}[-\\s]?\\d{4}[-\\s]?\\d{4}',  # 1234-5678-9012-3456\n",
    "    \n",
    "    # Contact information\n",
    "    'PHONE_INDIA': r'(\\+91|0)?[6789]\\d{9}',               # +919876543210\n",
    "    'EMAIL': r'[a-zA-Z0-9._%+-]+@[a-zA-Z0-9.-]+\\.[a-zA-Z]{2,}',\n",
    "    'PASSPORT': r'[A-Z]{1}[0-9]{7}',                      # A1234567\n",
    "    \n",
    "    # Location information\n",
    "    'GPS_COORDS': r'-?\\d{1,2}\\.\\d{6},\\s*-?\\d{1,3}\\.\\d{6}',  # 12.123456, 77.123456\n",
    "    'PINCODE': r'\\b\\d{6}\\b',                              # 123456\n",
    "    \n",
    "    # Vehicle information\n",
    "    'LICENSE_PLATE': r'[A-Z]{2}\\d{2}[A-Z]{2}\\d{4}',      # TN01AB1234\n",
    "    'CHASSIS_NUMBER': r'[A-Z0-9]{17}',                    # ABCD12345EFGH6789\n",
    "    \n",
    "    # Custom business metrics\n",
    "    'BATCH_NUMBER': r'BTH-\\d{2}-[A-Z]{2}-\\d{4}',         # BTH-23-IN-1234\n",
    "    'LOT_NUMBER': r'LOT-[A-Z]{2}\\d{6}',                  # LOT-AB123456\n",
    "    'WAREHOUSE_ID': r'WH-[A-Z]{2}-\\d{3}'                 # WH-IN-001\n",
    "}"
   ]
  },
  {
   "cell_type": "code",
   "execution_count": 4,
   "metadata": {},
   "outputs": [],
   "source": [
    "text = \"\"\"\n",
    "Employee Dhanushkumar (EMP-IT-123456) processed shipment SHIP-23-12345 for order ORD-23-IN-123456.\n",
    "Customer can be reached at +919876543210 or danushidk507@gmail.com.\n",
    "Delivery address: 123 Main St, Chennai 600001\n",
    "Vehicle TN01AB1234 will deliver container CONT-ABCD1234567.\n",
    "Transaction TXN-AB12CD34EF56 was processed for INV-2024-IN123456.\n",
    "GPS Location: 13.123456, 80.123456\n",
    "Product PRD-EL-123456 from batch BTH-23-IN-1234 is ready for pickup at WH-IN-001.\n",
    "Credit card: 4321-8765-1234-5678\n",
    "Passport number: A1234567\n",
    "\"\"\""
   ]
  },
  {
   "cell_type": "code",
   "execution_count": 5,
   "metadata": {},
   "outputs": [],
   "source": [
    "masked_text = text\n",
    "for pattern_type, pattern in custom_patterns.items():\n",
    "    matches = list(re.finditer(pattern, masked_text))\n",
    "    for match in reversed(matches):\n",
    "        start, end = match.span()\n",
    "        replacement = f'[{pattern_type}]'  \n",
    "        masked_text = masked_text[:start] + replacement + masked_text[end:]"
   ]
  },
  {
   "cell_type": "code",
   "execution_count": 6,
   "metadata": {},
   "outputs": [
    {
     "data": {
      "text/plain": [
       "'\\nEmployee Dhanushkumar ([EMPLOYEE_ID]) processed shipment [SHIPMENT_NUMBER] for order [ORDER_NUMBER].\\nCustomer can be reached at [PHONE_INDIA] or [EMAIL].\\nDelivery address: 123 Main St, Chennai [PINCODE]\\nVehicle [LICENSE_PLATE] will deliver container [CONTAINER_NUMBER].\\nTransaction [TRANSACTION_ID] was processed for [INVOICE_NUMBER].\\nGPS Location: [GPS_COORDS]\\nProduct [PRODUCT_CODE] from batch [BATCH_NUMBER] is ready for pickup at [WAREHOUSE_ID].\\nCredit card: [CREDIT_CARD]\\nPassport number: [PASSPORT]\\n'"
      ]
     },
     "execution_count": 6,
     "metadata": {},
     "output_type": "execute_result"
    }
   ],
   "source": [
    "masked_text"
   ]
  },
  {
   "cell_type": "code",
   "execution_count": 8,
   "metadata": {},
   "outputs": [
    {
     "name": "stderr",
     "output_type": "stream",
     "text": [
      "Asking to truncate to max_length but no maximum length is provided and the model has no predefined maximum length. Default to no truncation.\n"
     ]
    }
   ],
   "source": [
    "inputs = tokenizer(masked_text, return_tensors=\"pt\", truncation=True, padding=True)\n",
    "inputs = {k: v.to(device) for k, v in inputs.items()}"
   ]
  },
  {
   "cell_type": "code",
   "execution_count": 9,
   "metadata": {},
   "outputs": [
    {
     "data": {
      "text/plain": [
       "{'input_ids': tensor([[     1,    260, 116655, 121761,  73175,  60253,    260,  29495, 152995,\n",
       "          204971,  19327,    291,   3025,  51178,    260,  86735,  71711,   1144,\n",
       "             492,  80563,  29919,    291,    539, 160835,    440,    333,   5412,\n",
       "             492,  90155,    291,    539, 160835,  10071,  28750,    739,    391,\n",
       "             260,  11126,    346,    345,    492, 107409,    291, 123848,    440,\n",
       "             632,    492,  42391,  10071,  37928,  14131,    268,  19177,   4438,\n",
       "            1820,    262,  58777,    492,  87158,  58358,    440,  70148,    492,\n",
       "           83198, 104986,    291,    560, 120895,    440,    899,  15849,    260,\n",
       "            5895,    492, 187671, 118440,    291,    539, 160835,  10071,    260,\n",
       "          117693,    492, 178788, 170003,    291,   3025,    440,    640,    260,\n",
       "           86735,    333,    492,   9390,    562, 210480,    291,    539, 160835,\n",
       "           10071,  16551,  19614,    268,    492,  82634,    291, 110710, 126909,\n",
       "             440,  11554,    492, 209419,    291,  58358,    440,    703,    260,\n",
       "           98866,    492,    453, 191997,    291,    539, 160835,    440,    340,\n",
       "             260,  12637,    333,    260,  87883,    345,    492, 168829, 106614,\n",
       "             291,   3025,  10071,  24601,  10169,    268,    492,    425, 160503,\n",
       "             291, 214877,    440,   4761,   7599,   4404,    268,    492,  67782,\n",
       "           75807,    440,      2]]),\n",
       " 'token_type_ids': tensor([[0, 0, 0, 0, 0, 0, 0, 0, 0, 0, 0, 0, 0, 0, 0, 0, 0, 0, 0, 0, 0, 0, 0, 0,\n",
       "          0, 0, 0, 0, 0, 0, 0, 0, 0, 0, 0, 0, 0, 0, 0, 0, 0, 0, 0, 0, 0, 0, 0, 0,\n",
       "          0, 0, 0, 0, 0, 0, 0, 0, 0, 0, 0, 0, 0, 0, 0, 0, 0, 0, 0, 0, 0, 0, 0, 0,\n",
       "          0, 0, 0, 0, 0, 0, 0, 0, 0, 0, 0, 0, 0, 0, 0, 0, 0, 0, 0, 0, 0, 0, 0, 0,\n",
       "          0, 0, 0, 0, 0, 0, 0, 0, 0, 0, 0, 0, 0, 0, 0, 0, 0, 0, 0, 0, 0, 0, 0, 0,\n",
       "          0, 0, 0, 0, 0, 0, 0, 0, 0, 0, 0, 0, 0, 0, 0, 0, 0, 0, 0, 0, 0, 0, 0, 0,\n",
       "          0, 0, 0, 0, 0, 0, 0, 0, 0, 0, 0, 0]]),\n",
       " 'attention_mask': tensor([[1, 1, 1, 1, 1, 1, 1, 1, 1, 1, 1, 1, 1, 1, 1, 1, 1, 1, 1, 1, 1, 1, 1, 1,\n",
       "          1, 1, 1, 1, 1, 1, 1, 1, 1, 1, 1, 1, 1, 1, 1, 1, 1, 1, 1, 1, 1, 1, 1, 1,\n",
       "          1, 1, 1, 1, 1, 1, 1, 1, 1, 1, 1, 1, 1, 1, 1, 1, 1, 1, 1, 1, 1, 1, 1, 1,\n",
       "          1, 1, 1, 1, 1, 1, 1, 1, 1, 1, 1, 1, 1, 1, 1, 1, 1, 1, 1, 1, 1, 1, 1, 1,\n",
       "          1, 1, 1, 1, 1, 1, 1, 1, 1, 1, 1, 1, 1, 1, 1, 1, 1, 1, 1, 1, 1, 1, 1, 1,\n",
       "          1, 1, 1, 1, 1, 1, 1, 1, 1, 1, 1, 1, 1, 1, 1, 1, 1, 1, 1, 1, 1, 1, 1, 1,\n",
       "          1, 1, 1, 1, 1, 1, 1, 1, 1, 1, 1, 1]])}"
      ]
     },
     "execution_count": 9,
     "metadata": {},
     "output_type": "execute_result"
    }
   ],
   "source": [
    "inputs"
   ]
  },
  {
   "cell_type": "code",
   "execution_count": 10,
   "metadata": {},
   "outputs": [],
   "source": [
    "with torch.no_grad():\n",
    "    outputs = model(**inputs)"
   ]
  },
  {
   "cell_type": "code",
   "execution_count": 12,
   "metadata": {},
   "outputs": [],
   "source": [
    "predictions = torch.argmax(outputs.logits, dim=-1)\n",
    "encoded_inputs = tokenizer.encode_plus(masked_text, return_offsets_mapping=True, add_special_tokens=True)\n",
    "offset_mapping = encoded_inputs['offset_mapping']"
   ]
  },
  {
   "cell_type": "code",
   "execution_count": 11,
   "metadata": {},
   "outputs": [
    {
     "data": {
      "text/plain": [
       "TokenClassifierOutput(loss=None, logits=tensor([[[-1.3687, -0.3770, -1.8071,  ..., -0.1210, -1.5397,  5.1386],\n",
       "         [-1.1841, -2.3140, -1.4726,  ..., -0.9898, -2.9343, 13.4018],\n",
       "         [-1.1459, -2.4127, -1.5615,  ..., -1.2652, -2.9635, 13.4350],\n",
       "         ...,\n",
       "         [-1.2477, -1.6528, -1.3613,  ..., -1.1085, -2.6407, 13.4708],\n",
       "         [-1.0217, -1.2990, -1.7829,  ..., -1.1369, -2.8491, 13.5439],\n",
       "         [-1.1137, -0.0215, -2.0703,  ..., -0.0444, -1.6419,  8.2437]]]), hidden_states=None, attentions=None)"
      ]
     },
     "execution_count": 11,
     "metadata": {},
     "output_type": "execute_result"
    }
   ],
   "source": [
    "outputs"
   ]
  },
  {
   "cell_type": "code",
   "execution_count": 15,
   "metadata": {},
   "outputs": [],
   "source": [
    "final_text = list(masked_text)\n",
    "is_redacting = False\n",
    "redaction_start = 0\n",
    "current_pii_type = ''\n"
   ]
  },
  {
   "cell_type": "code",
   "execution_count": 16,
   "metadata": {},
   "outputs": [],
   "source": [
    "for i, (start, end) in enumerate(offset_mapping):\n",
    "    if start == end:  \n",
    "        continue\n",
    "    \n",
    "    label = predictions[0][i].item()\n",
    "    if label != model.config.label2id['O']:  # If it's a PII token\n",
    "        pii_type = model.config.id2label[label]\n",
    "        if not is_redacting:\n",
    "            is_redacting = True\n",
    "            redaction_start = start\n",
    "            current_pii_type = pii_type\n",
    "        elif pii_type != current_pii_type:\n",
    "            for j in range(redaction_start, start):\n",
    "                final_text[j] = ''\n",
    "            final_text[redaction_start] = f'[{current_pii_type}]'  \n",
    "            redaction_start = start\n",
    "            current_pii_type = pii_type\n",
    "    else:\n",
    "        if is_redacting:\n",
    "     \n",
    "            for j in range(redaction_start, end):\n",
    "                final_text[j] = ''\n",
    "            final_text[redaction_start] = f'[{current_pii_type}]'  \n",
    "            is_redacting = False"
   ]
  },
  {
   "cell_type": "code",
   "execution_count": 17,
   "metadata": {},
   "outputs": [],
   "source": [
    "if is_redacting:\n",
    "    for j in range(redaction_start, len(final_text)):\n",
    "        final_text[j] = ''\n",
    "    final_text[redaction_start] = f'[{current_pii_type}]'"
   ]
  },
  {
   "cell_type": "code",
   "execution_count": 18,
   "metadata": {},
   "outputs": [],
   "source": [
    "final_masked_text = ''.join(final_text)"
   ]
  },
  {
   "cell_type": "code",
   "execution_count": 19,
   "metadata": {},
   "outputs": [
    {
     "name": "stdout",
     "output_type": "stream",
     "text": [
      "Original text:\n",
      "\n",
      "Employee Dhanushkumar (EMP-IT-123456) processed shipment SHIP-23-12345 for order ORD-23-IN-123456.\n",
      "Customer can be reached at +919876543210 or danushidk507@gmail.com.\n",
      "Delivery address: 123 Main St, Chennai 600001\n",
      "Vehicle TN01AB1234 will deliver container CONT-ABCD1234567.\n",
      "Transaction TXN-AB12CD34EF56 was processed for INV-2024-IN123456.\n",
      "GPS Location: 13.123456, 80.123456\n",
      "Product PRD-EL-123456 from batch BTH-23-IN-1234 is ready for pickup at WH-IN-001.\n",
      "Credit card: 4321-8765-1234-5678\n",
      "Passport number: A1234567\n",
      "\n"
     ]
    }
   ],
   "source": [
    "print(\"Original text:\")\n",
    "print(text)\n"
   ]
  },
  {
   "cell_type": "code",
   "execution_count": 20,
   "metadata": {},
   "outputs": [
    {
     "name": "stdout",
     "output_type": "stream",
     "text": [
      "\n",
      "Masked text:\n",
      "\n",
      "Employee[I-GIVENNAME]([EMPLOYEE_ID]) processed shipment [SHIPMENT_NUMBER] for order [ORDER_NUMBER].\n",
      "Customer can be reached at [PHONE_INDIA] or [EMAIL].\n",
      "Delivery address:[I-BUILDINGNUM] St,[I-CITY]PINCODE]\n",
      "Vehicle [LICENSE_PLATE] will deliver container [CONTAINER_NUMBER].\n",
      "Transaction [TRANSACTION_ID] was processed for [INVOICE_NUMBER].\n",
      "GPS Location: [GPS_COORDS]\n",
      "Product [PRODUCT_CODE] from batch [BATCH_NUMBER] is ready for pickup at [WAREHOUSE_ID].\n",
      "Credit card: [CREDIT_CARD]\n",
      "Passport number: [PASSPORT]\n",
      "\n"
     ]
    }
   ],
   "source": [
    "print(\"\\nMasked text:\")\n",
    "print(final_masked_text)"
   ]
  },
  {
   "cell_type": "code",
   "execution_count": null,
   "metadata": {},
   "outputs": [],
   "source": []
  }
 ],
 "metadata": {
  "kernelspec": {
   "display_name": "idk",
   "language": "python",
   "name": "python3"
  },
  "language_info": {
   "codemirror_mode": {
    "name": "ipython",
    "version": 3
   },
   "file_extension": ".py",
   "mimetype": "text/x-python",
   "name": "python",
   "nbconvert_exporter": "python",
   "pygments_lexer": "ipython3",
   "version": "3.11.9"
  }
 },
 "nbformat": 4,
 "nbformat_minor": 2
}
